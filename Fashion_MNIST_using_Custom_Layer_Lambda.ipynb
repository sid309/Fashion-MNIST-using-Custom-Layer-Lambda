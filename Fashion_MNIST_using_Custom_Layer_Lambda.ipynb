{
  "nbformat": 4,
  "nbformat_minor": 0,
  "metadata": {
    "colab": {
      "name": "Fashion MNIST using Custom Layer Lambda.ipynb",
      "provenance": []
    },
    "kernelspec": {
      "name": "python3",
      "display_name": "Python 3"
    },
    "language_info": {
      "name": "python"
    }
  },
  "cells": [
    {
      "cell_type": "code",
      "metadata": {
        "colab": {
          "base_uri": "https://localhost:8080/",
          "height": 36
        },
        "id": "U9vogkEw0KGS",
        "outputId": "13e51ce8-297a-4cb7-d2a7-bb95c1cccb4f"
      },
      "source": [
        "import tensorflow as tf\n",
        "from tensorflow import keras\n",
        "import numpy as np\n",
        "from tensorflow.nn import relu,softmax\n",
        "from tensorflow.keras.layers import Input,Dense,Lambda,Flatten\n",
        "from tensorflow.keras.datasets import mnist\n",
        "from tensorflow.keras import Model\n",
        "from tensorflow.keras.losses import categorical_crossentropy\n",
        "from tensorflow.keras.optimizers import RMSprop\n",
        "from tensorflow.keras import backend as K\n",
        "from tensorflow.keras.utils import to_categorical\n",
        "tf.__version__"
      ],
      "execution_count": 1,
      "outputs": [
        {
          "output_type": "execute_result",
          "data": {
            "application/vnd.google.colaboratory.intrinsic+json": {
              "type": "string"
            },
            "text/plain": [
              "'2.6.0'"
            ]
          },
          "metadata": {
            "tags": []
          },
          "execution_count": 1
        }
      ]
    },
    {
      "cell_type": "code",
      "metadata": {
        "colab": {
          "base_uri": "https://localhost:8080/"
        },
        "id": "jRrXLEkpKbT8",
        "outputId": "6f42dca4-3bf4-4963-eb8a-012744e283a5"
      },
      "source": [
        "(train_x,train_y),(test_x,test_y)=mnist.load_data()"
      ],
      "execution_count": 2,
      "outputs": [
        {
          "output_type": "stream",
          "text": [
            "Downloading data from https://storage.googleapis.com/tensorflow/tf-keras-datasets/mnist.npz\n",
            "11493376/11490434 [==============================] - 0s 0us/step\n",
            "11501568/11490434 [==============================] - 0s 0us/step\n"
          ],
          "name": "stdout"
        }
      ]
    },
    {
      "cell_type": "code",
      "metadata": {
        "id": "fnZWG8jKKlHT"
      },
      "source": [
        "test_x=test_x/255.0\n",
        "train_x=train_x/255.0"
      ],
      "execution_count": 3,
      "outputs": []
    },
    {
      "cell_type": "code",
      "metadata": {
        "id": "cSYf3cQjKs-X"
      },
      "source": [
        "train_y=to_categorical(train_y)\n",
        "test_y=to_categorical(test_y)"
      ],
      "execution_count": 4,
      "outputs": []
    },
    {
      "cell_type": "code",
      "metadata": {
        "id": "ksMlcMKYK1qf"
      },
      "source": [
        "inputs=Input(shape=(28,28))\n",
        "flatten=Flatten()(inputs)\n",
        "layer_with_activation=Dense(128,activation=relu)(flatten)\n",
        "op_with_activation=Dense(10,activation=softmax)(layer_with_activation)"
      ],
      "execution_count": 6,
      "outputs": []
    },
    {
      "cell_type": "code",
      "metadata": {
        "id": "JHcxJOG_LEnp"
      },
      "source": [
        "model=Model(inputs=inputs,outputs=op_with_activation)"
      ],
      "execution_count": 7,
      "outputs": []
    },
    {
      "cell_type": "code",
      "metadata": {
        "id": "jrklSFFWLjGk"
      },
      "source": [
        "model.compile(loss=categorical_crossentropy,optimizer=RMSprop(),metrics=['accuracy'])"
      ],
      "execution_count": 9,
      "outputs": []
    },
    {
      "cell_type": "code",
      "metadata": {
        "colab": {
          "base_uri": "https://localhost:8080/"
        },
        "id": "ZWUUXcIXLo0W",
        "outputId": "1524903c-3960-43a9-ca1b-70b8cb861559"
      },
      "source": [
        "model.fit(train_x,train_y,epochs=5)\n",
        "model.evaluate(test_x,test_y)"
      ],
      "execution_count": 11,
      "outputs": [
        {
          "output_type": "stream",
          "text": [
            "Epoch 1/5\n",
            "1875/1875 [==============================] - 5s 3ms/step - loss: 0.1241 - accuracy: 0.9636\n",
            "Epoch 2/5\n",
            "1875/1875 [==============================] - 5s 3ms/step - loss: 0.0903 - accuracy: 0.9738\n",
            "Epoch 3/5\n",
            "1875/1875 [==============================] - 5s 3ms/step - loss: 0.0728 - accuracy: 0.9783\n",
            "Epoch 4/5\n",
            "1875/1875 [==============================] - 5s 3ms/step - loss: 0.0616 - accuracy: 0.9826\n",
            "Epoch 5/5\n",
            "1875/1875 [==============================] - 5s 3ms/step - loss: 0.0533 - accuracy: 0.9851\n",
            "313/313 [==============================] - 0s 1ms/step - loss: 0.1001 - accuracy: 0.9745\n"
          ],
          "name": "stdout"
        },
        {
          "output_type": "execute_result",
          "data": {
            "text/plain": [
              "[0.10005100816488266, 0.9745000004768372]"
            ]
          },
          "metadata": {
            "tags": []
          },
          "execution_count": 11
        }
      ]
    },
    {
      "cell_type": "code",
      "metadata": {
        "colab": {
          "base_uri": "https://localhost:8080/"
        },
        "id": "9Y8oVpy8L0pW",
        "outputId": "4f1213fa-d495-4165-82c8-551404289898"
      },
      "source": [
        "inputs=Input(shape=(28,28))\n",
        "flatten=Flatten()(inputs)\n",
        "layer_with_activation=Dense(128,)(flatten)\n",
        "op_without_activation=Dense(10,activation=softmax)(layer_with_activation)\n",
        "model=Model(inputs=inputs,outputs=op_without_activation)\n",
        "model.compile(loss=categorical_crossentropy,optimizer=RMSprop(),metrics=['accuracy'])\n",
        "model.fit(train_x,train_y,epochs=5)\n",
        "model.evaluate(test_x,test_y)"
      ],
      "execution_count": 12,
      "outputs": [
        {
          "output_type": "stream",
          "text": [
            "Epoch 1/5\n",
            "1875/1875 [==============================] - 5s 3ms/step - loss: 0.3622 - accuracy: 0.8967\n",
            "Epoch 2/5\n",
            "1875/1875 [==============================] - 5s 3ms/step - loss: 0.3056 - accuracy: 0.9156\n",
            "Epoch 3/5\n",
            "1875/1875 [==============================] - 5s 3ms/step - loss: 0.2945 - accuracy: 0.9193\n",
            "Epoch 4/5\n",
            "1875/1875 [==============================] - 5s 2ms/step - loss: 0.2886 - accuracy: 0.9207\n",
            "Epoch 5/5\n",
            "1875/1875 [==============================] - 5s 3ms/step - loss: 0.2849 - accuracy: 0.9212\n",
            "313/313 [==============================] - 1s 1ms/step - loss: 0.2930 - accuracy: 0.9181\n"
          ],
          "name": "stdout"
        },
        {
          "output_type": "execute_result",
          "data": {
            "text/plain": [
              "[0.292998731136322, 0.9180999994277954]"
            ]
          },
          "metadata": {
            "tags": []
          },
          "execution_count": 12
        }
      ]
    },
    {
      "cell_type": "markdown",
      "metadata": {
        "id": "lCaXKeP2MMcd"
      },
      "source": [
        "#Custom Layer#"
      ]
    },
    {
      "cell_type": "code",
      "metadata": {
        "id": "IQsGLf6zMIM1"
      },
      "source": [
        "model_lambda=tf.keras.Sequential([\n",
        "                                  Flatten(input_shape=(28,28)),\n",
        "                                  Dense(128),\n",
        "                                  Lambda(lambda x:tf.abs(x)),\n",
        "                                  Dense(10,activation=softmax)\n",
        "])"
      ],
      "execution_count": 19,
      "outputs": []
    },
    {
      "cell_type": "code",
      "metadata": {
        "colab": {
          "base_uri": "https://localhost:8080/"
        },
        "id": "2iKQalZaNMuD",
        "outputId": "a6cdfb09-e12b-4410-d212-43502c3e02e5"
      },
      "source": [
        "model_lambda.compile(loss=categorical_crossentropy,optimizer=RMSprop(),metrics=['accuracy'])\n",
        "model_lambda.fit(train_x,train_y,epochs=5)\n",
        "model_lambda.evaluate(test_x,test_y)"
      ],
      "execution_count": 20,
      "outputs": [
        {
          "output_type": "stream",
          "text": [
            "Epoch 1/5\n",
            "1875/1875 [==============================] - 5s 3ms/step - loss: 0.2107 - accuracy: 0.9396\n",
            "Epoch 2/5\n",
            "1875/1875 [==============================] - 5s 3ms/step - loss: 0.0903 - accuracy: 0.9726\n",
            "Epoch 3/5\n",
            "1875/1875 [==============================] - 5s 3ms/step - loss: 0.0656 - accuracy: 0.9803\n",
            "Epoch 4/5\n",
            "1875/1875 [==============================] - 5s 3ms/step - loss: 0.0515 - accuracy: 0.9848\n",
            "Epoch 5/5\n",
            "1875/1875 [==============================] - 5s 3ms/step - loss: 0.0416 - accuracy: 0.9875\n",
            "313/313 [==============================] - 1s 1ms/step - loss: 0.1041 - accuracy: 0.9721\n"
          ],
          "name": "stdout"
        },
        {
          "output_type": "execute_result",
          "data": {
            "text/plain": [
              "[0.1040651723742485, 0.972100019454956]"
            ]
          },
          "metadata": {
            "tags": []
          },
          "execution_count": 20
        }
      ]
    },
    {
      "cell_type": "code",
      "metadata": {
        "id": "RqarsV_DNvWv"
      },
      "source": [
        "def my_relu(x):\n",
        "  return tf.maximum(x,0.0)"
      ],
      "execution_count": 21,
      "outputs": []
    },
    {
      "cell_type": "code",
      "metadata": {
        "id": "YmHQ0F25N-Hy"
      },
      "source": [
        "model_lambda=tf.keras.Sequential([\n",
        "                                  Flatten(input_shape=(28,28)),\n",
        "                                  Dense(128),\n",
        "                                  Lambda(my_relu),\n",
        "                                  Dense(10,activation=softmax)\n",
        "])"
      ],
      "execution_count": 22,
      "outputs": []
    },
    {
      "cell_type": "code",
      "metadata": {
        "colab": {
          "base_uri": "https://localhost:8080/"
        },
        "id": "7BtpNDbJOE2N",
        "outputId": "ecaa8a11-21cd-4846-fe30-e0e3af53c03a"
      },
      "source": [
        "model_lambda.compile(loss=categorical_crossentropy,optimizer=RMSprop(),metrics=['accuracy'])\n",
        "model_lambda.fit(train_x,train_y,epochs=5)\n",
        "model_lambda.evaluate(test_x,test_y)"
      ],
      "execution_count": 23,
      "outputs": [
        {
          "output_type": "stream",
          "text": [
            "Epoch 1/5\n",
            "1875/1875 [==============================] - 5s 3ms/step - loss: 0.2550 - accuracy: 0.9264\n",
            "Epoch 2/5\n",
            "1875/1875 [==============================] - 5s 3ms/step - loss: 0.1205 - accuracy: 0.9646\n",
            "Epoch 3/5\n",
            "1875/1875 [==============================] - 5s 3ms/step - loss: 0.0881 - accuracy: 0.9742\n",
            "Epoch 4/5\n",
            "1875/1875 [==============================] - 5s 3ms/step - loss: 0.0725 - accuracy: 0.9789\n",
            "Epoch 5/5\n",
            "1875/1875 [==============================] - 5s 3ms/step - loss: 0.0597 - accuracy: 0.9826\n",
            "313/313 [==============================] - 1s 1ms/step - loss: 0.0973 - accuracy: 0.9722\n"
          ],
          "name": "stdout"
        },
        {
          "output_type": "execute_result",
          "data": {
            "text/plain": [
              "[0.09729202836751938, 0.9721999764442444]"
            ]
          },
          "metadata": {
            "tags": []
          },
          "execution_count": 23
        }
      ]
    },
    {
      "cell_type": "code",
      "metadata": {
        "id": "17q2Gx6TOGZv"
      },
      "source": [
        ""
      ],
      "execution_count": null,
      "outputs": []
    }
  ]
}